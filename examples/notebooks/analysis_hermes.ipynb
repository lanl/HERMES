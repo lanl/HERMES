{
 "cells": [
  {
   "cell_type": "code",
   "execution_count": 8,
   "id": "9df0483e",
   "metadata": {},
   "outputs": [],
   "source": [
    "from hermes.analysis.exporter import SignalDataExporter\n",
    "import matplotlib.pyplot as plt\n",
    "import pandas as pd\n",
    "import numpy as np\n",
    "import os"
   ]
  },
  {
   "cell_type": "code",
   "execution_count": 9,
   "id": "860c3b35",
   "metadata": {},
   "outputs": [],
   "source": [
    "# --- User inputs ---\n",
    "rawsignal_dir = \"PATH/TO/YOUR/RAWSIGNALS/DATA\"  # Directory containing raw signal files"
   ]
  },
  {
   "cell_type": "code",
   "execution_count": 10,
   "id": "6950e206",
   "metadata": {},
   "outputs": [],
   "source": [
    "#===== EXAMPLE USAGE CASES OF EXPORTER =====#\n",
    "\n",
    "exporter = SignalDataExporter()\n",
    "\n",
    "# # Load all files in the rawsignals folder into a pandas dataframe\n",
    "# df = exporter.read_rawsignals_folder(rawsignal_dir)\n",
    "\n",
    "# # Load specific indices 5 through 50\n",
    "# df = exporter.read_rawsignals_folder(rawsignal_dir, index_range=\"5:50\")\n",
    "\n",
    "# # Load specific indices 5 through 50 with a step of 2. \n",
    "# df = exporter.read_rawsignals_folder(rawsignal_dir, index_range=\"5:50:2\")\n",
    "\n",
    "# # Load a single file directly (instead of using folder):\n",
    "# df = exporter.read_rawsignals_file(\"/path/to/data/file1.rawSignals\")\n"
   ]
  },
  {
   "cell_type": "code",
   "execution_count": 11,
   "id": "1e85e4cb",
   "metadata": {},
   "outputs": [
    {
     "ename": "NameError",
     "evalue": "name 'df' is not defined",
     "output_type": "error",
     "traceback": [
      "\u001b[31m---------------------------------------------------------------------------\u001b[39m",
      "\u001b[31mNameError\u001b[39m                                 Traceback (most recent call last)",
      "\u001b[36mCell\u001b[39m\u001b[36m \u001b[39m\u001b[32mIn[11]\u001b[39m\u001b[32m, line 2\u001b[39m\n\u001b[32m      1\u001b[39m \u001b[38;5;66;03m# Display basic information about the loaded data\u001b[39;00m\n\u001b[32m----> \u001b[39m\u001b[32m2\u001b[39m \u001b[38;5;28mprint\u001b[39m(\u001b[33mf\u001b[39m\u001b[33m\"\u001b[39m\u001b[33mSuccessfully loaded \u001b[39m\u001b[38;5;132;01m{\u001b[39;00m\u001b[38;5;28mlen\u001b[39m(\u001b[43mdf\u001b[49m)\u001b[38;5;132;01m:\u001b[39;00m\u001b[33m,\u001b[39m\u001b[38;5;132;01m}\u001b[39;00m\u001b[33m signal records\u001b[39m\u001b[33m\"\u001b[39m)\n\u001b[32m      3\u001b[39m \u001b[38;5;28mprint\u001b[39m(\u001b[33mf\u001b[39m\u001b[33m\"\u001b[39m\u001b[33mColumns: \u001b[39m\u001b[38;5;132;01m{\u001b[39;00m\u001b[38;5;28mlist\u001b[39m(df.columns)\u001b[38;5;132;01m}\u001b[39;00m\u001b[33m\"\u001b[39m)\n\u001b[32m      4\u001b[39m \u001b[38;5;28mprint\u001b[39m(\u001b[33mf\u001b[39m\u001b[33m\"\u001b[39m\u001b[38;5;130;01m\\n\u001b[39;00m\u001b[33mSignal type distribution:\u001b[39m\u001b[33m\"\u001b[39m)\n",
      "\u001b[31mNameError\u001b[39m: name 'df' is not defined"
     ]
    }
   ],
   "source": [
    "# Display basic information about the loaded data\n",
    "print(f\"Successfully loaded {len(df):,} signal records\")\n",
    "print(f\"Columns: {list(df.columns)}\")\n",
    "print(f\"\\nSignal type distribution:\")\n",
    "print(df['signalTypeDescription'].value_counts())\n",
    "print(f\"\\nData time range: {df['ToaFinal'].min():.6f} to {df['ToaFinal'].max():.6f} seconds\")\n",
    "print(f\"Duration: {df['ToaFinal'].max() - df['ToaFinal'].min():.6f} seconds\")\n",
    "print(f\"\\nPixel ranges: x({df['xPixel'].min()}-{df['xPixel'].max()}), y({df['yPixel'].min()}-{df['yPixel'].max()})\")\n",
    "print(f\"\\nFirst few rows:\")\n",
    "print(df.head(10))"
   ]
  },
  {
   "cell_type": "code",
   "execution_count": 12,
   "id": "ce8b1ea8",
   "metadata": {},
   "outputs": [
    {
     "ename": "NameError",
     "evalue": "name 'df' is not defined",
     "output_type": "error",
     "traceback": [
      "\u001b[31m---------------------------------------------------------------------------\u001b[39m",
      "\u001b[31mNameError\u001b[39m                                 Traceback (most recent call last)",
      "\u001b[36mCell\u001b[39m\u001b[36m \u001b[39m\u001b[32mIn[12]\u001b[39m\u001b[32m, line 4\u001b[39m\n\u001b[32m      1\u001b[39m \u001b[33;03m'''Histogram to view pixel hits before any processing'''\u001b[39;00m\n\u001b[32m      3\u001b[39m \u001b[38;5;66;03m# Filter only 'Pixel' signal type data\u001b[39;00m\n\u001b[32m----> \u001b[39m\u001b[32m4\u001b[39m pixel_df = \u001b[43mdf\u001b[49m[df[\u001b[33m'\u001b[39m\u001b[33msignalTypeDescription\u001b[39m\u001b[33m'\u001b[39m] == \u001b[33m'\u001b[39m\u001b[33mPixel\u001b[39m\u001b[33m'\u001b[39m]\n\u001b[32m      6\u001b[39m \u001b[38;5;66;03m# Create a 2D histogram (image) of the pixel data\u001b[39;00m\n\u001b[32m      7\u001b[39m plt.figure(figsize=(\u001b[32m12\u001b[39m, \u001b[32m10\u001b[39m))\n",
      "\u001b[31mNameError\u001b[39m: name 'df' is not defined"
     ]
    }
   ],
   "source": [
    "'''Histogram to view pixel hits before any processing'''\n",
    "\n",
    "# Filter only 'Pixel' signal type data\n",
    "pixel_df = df[df['signalTypeDescription'] == 'Pixel']\n",
    "\n",
    "# Create a 2D histogram (image) of the pixel data\n",
    "plt.figure(figsize=(12, 10))\n",
    "\n",
    "# Create 2D histogram with color representing count density\n",
    "hist, xedges, yedges = np.histogram2d(pixel_df['xPixel'], pixel_df['yPixel'], bins=256, range=[[0, 255], [0, 255]])\n",
    "\n",
    "# Display as image\n",
    "plt.imshow(hist.T, origin='lower', extent=[0, 255, 0, 255], cmap='viridis', aspect='equal')\n",
    "plt.xlabel('xPixel')\n",
    "plt.ylabel('yPixel')\n",
    "plt.title('Pixel Hit Count Density Map')\n",
    "\n",
    "# Add colorbar\n",
    "cbar = plt.colorbar()\n",
    "cbar.set_label('Hit Count', rotation=270, labelpad=20)\n",
    "\n",
    "plt.tight_layout()\n",
    "plt.show()"
   ]
  }
 ],
 "metadata": {
  "kernelspec": {
   "display_name": "default",
   "language": "python",
   "name": "python3"
  },
  "language_info": {
   "codemirror_mode": {
    "name": "ipython",
    "version": 3
   },
   "file_extension": ".py",
   "mimetype": "text/x-python",
   "name": "python",
   "nbconvert_exporter": "python",
   "pygments_lexer": "ipython3",
   "version": "3.13.5"
  }
 },
 "nbformat": 4,
 "nbformat_minor": 5
}
