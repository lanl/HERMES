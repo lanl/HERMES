{
 "cells": [
  {
   "cell_type": "code",
   "execution_count": null,
   "id": "9df0483e",
   "metadata": {},
   "outputs": [],
   "source": [
    "from hermes.analysis.loader import SignalsIO\n",
    "from hermes.analysis.plotter import BufferPlotter, HistogramPlotter, ToAImageSequenceGenerator\n",
    "from hermes.analysis.analyzer import SignalAnalyzer\n",
    "import matplotlib.pyplot as plt\n",
    "import pandas as pd\n",
    "import numpy as np\n",
    "import os"
   ]
  },
  {
   "cell_type": "code",
   "execution_count": null,
   "id": "6950e206",
   "metadata": {},
   "outputs": [],
   "source": [
    "# --- User inputs ---\n",
    "rawSignals_dir = \"PATH/TO/YOUR/RAWSIGNALS/DATA\"              # Directory containing .rawSignals files\n",
    "csv_dir = \"PATH/TO/YOUR/CSV/DATA\"                           # Directory containing .csv files\n",
    "pixelActivations_dir = \"PATH/TO/YOUR/PIXELACTIVATIONS/DATA\" # Directory containing .pixelActivations files\n",
    "\n",
    "#===== EXAMPLE USAGE CASES OF LOADER =====#\n",
    "\n",
    "loader = SignalsIO()\n",
    "\n",
    "# # Load a single .rawSignals, .csv, and .pixelActivations file\n",
    "# df1 = loader.load_data(\"path/to/data.rawSignals\")\n",
    "# df2 = loader.load_data(\"path/to/data.csv\")\n",
    "# df3 = loader.load_data(\"path/to/data.pixelActivations\")\n",
    "\n",
    "# # Load the .rawSignals files from a folder that has many different file types. \n",
    "# df = loader.load_data(\"path/to/mixed/data\", format=\"rawSignals\")\n",
    "\n",
    "# # Load the .csv files from a folder with many file types and only load files 5 through 9.\n",
    "# df = loader.load_data(\"path/to/mixed/data\", format=\"csv\", index=\"5:10\")\n",
    "\n",
    "# # Load the .pixelActivations files from directory, load files 10 through 19 with a step of 2, and enable ToA continuity\n",
    "# df = loader.load_data(pixelActivations_dir, index=\"10:20:2\", time_adjust=True)\n",
    "\n",
    "# # Load .rawSignals files from directory, load files 10 through 100 with step of 5, enable ToA continuity, with rounding estimation.\n",
    "# df = loader.load_data(rawSignals_dir, index=\"10:101:5\", time_adjust=True, round_period_to=0.25)\n",
    "\n",
    "# # Load .rawSignals files from directory, load files 10 through 100 with step of 5, enable ToA continuity, with defined file duration.\n",
    "# df = loader.load_data(rawSignals_dir, index=\"10:101:5\", time_adjust=True, file_duration=2.5)\n",
    "\n",
    "#===== EXAMPLE USAGE CASES OF ANALYZER =====#\n",
    "\n",
    "analyzer = SignalAnalyzer()\n",
    "\n",
    "# # Get summary of data that has been loaded\n",
    "# analyzer.get_summary_stats(df)\n",
    "\n",
    "# # Filter DataFrame to only show pixels\n",
    "# pixel_df = analyzer.filter_by_signal_type(df, \"Pixel\")\n",
    "\n",
    "# # Filter DataFrame to be between time window of 1.5 and 2 seconds.\n",
    "# time_df = analyzer.filter_by_time_range(df, 1.5, 2.0)\n",
    "\n",
    "#===== EXAMPLE USAGE CASES OF PLOTTER =====#\n",
    "\n",
    "# # Plot a heatmap of pixel hits. Assumed pixel_df is defined from analyzer section.\n",
    "# HistogramPlotter.plot_2D_histogram(pixel_df)\n"
   ]
  }
 ],
 "metadata": {
  "kernelspec": {
   "display_name": "default",
   "language": "python",
   "name": "python3"
  },
  "language_info": {
   "codemirror_mode": {
    "name": "ipython",
    "version": 3
   },
   "file_extension": ".py",
   "mimetype": "text/x-python",
   "name": "python",
   "nbconvert_exporter": "python",
   "pygments_lexer": "ipython3",
   "version": "3.13.5"
  }
 },
 "nbformat": 4,
 "nbformat_minor": 5
}
