{
 "cells": [
  {
   "cell_type": "code",
   "execution_count": null,
   "id": "9df0483e",
   "metadata": {},
   "outputs": [],
   "source": [
    "from hermes.analysis.reader import SignalDataReader\n",
    "import matplotlib.pyplot as plt\n",
    "import pandas as pd\n",
    "import numpy as np\n",
    "import os"
   ]
  },
  {
   "cell_type": "code",
   "execution_count": null,
   "id": "6950e206",
   "metadata": {},
   "outputs": [],
   "source": [
    "# --- User inputs ---\n",
    "rawsignal_dir = \"PATH/TO/YOUR/RAWSIGNALS/DATA\"  # Directory containing raw signal files\n",
    "\n",
    "#===== EXAMPLE USAGE CASES OF READER TO LOAD .RAWSIGNAL DATA =====#\n",
    "\n",
    "reader = SignalDataReader()\n",
    "\n",
    "# # Load all files in the rawsignals folder into a pandas dataframe\n",
    "# df = reader.read_rawsignals_folder(rawsignal_dir)\n",
    "\n",
    "# Load specific indices 5 through 50\n",
    "# df = reader.read_rawsignals_folder(rawsignal_dir, index_range=\"5:50\")\n",
    "\n",
    "# # Load specific indices 5 through 50 with a step of 2. \n",
    "# df = reader.read_rawsignals_folder(rawsignal_dir, index_range=\"5:50:2\")\n",
    "\n",
    "# # Load a single file directly (instead of using folder):\n",
    "# df = reader.read_rawsignals_file(\"/path/to/data/file1.rawSignals\")\n"
   ]
  },
  {
   "cell_type": "code",
   "execution_count": 4,
   "id": "1e85e4cb",
   "metadata": {},
   "outputs": [
    {
     "ename": "NameError",
     "evalue": "name 'df' is not defined",
     "output_type": "error",
     "traceback": [
      "\u001b[31m---------------------------------------------------------------------------\u001b[39m",
      "\u001b[31mNameError\u001b[39m                                 Traceback (most recent call last)",
      "\u001b[36mCell\u001b[39m\u001b[36m \u001b[39m\u001b[32mIn[4]\u001b[39m\u001b[32m, line 2\u001b[39m\n\u001b[32m      1\u001b[39m \u001b[38;5;66;03m# Display basic information about the loaded data\u001b[39;00m\n\u001b[32m----> \u001b[39m\u001b[32m2\u001b[39m reader.get_summary_stats(\u001b[43mdf\u001b[49m, rows=\u001b[32m10\u001b[39m)\n",
      "\u001b[31mNameError\u001b[39m: name 'df' is not defined"
     ]
    }
   ],
   "source": [
    "# Display basic information about the loaded data\n",
    "reader.get_summary_stats(df, rows=10)"
   ]
  },
  {
   "cell_type": "code",
   "execution_count": null,
   "id": "ce8b1ea8",
   "metadata": {},
   "outputs": [],
   "source": [
    "'''Histogram to view pixel hits before any processing'''\n",
    "\n",
    "# Filter only 'Pixel' signal type data\n",
    "pixel_df = df[df['signalTypeDescription'] == 'Pixel']\n",
    "\n",
    "# Create a 2D histogram (image) of the pixel data\n",
    "plt.figure(figsize=(12, 10))\n",
    "\n",
    "# Create 2D histogram with color representing count density\n",
    "hist, xedges, yedges = np.histogram2d(pixel_df['xPixel'], pixel_df['yPixel'], bins=256, range=[[0, 255], [0, 255]])\n",
    "\n",
    "# Display as image\n",
    "plt.imshow(hist.T, origin='lower', extent=[0, 255, 0, 255], cmap='viridis', aspect='equal')\n",
    "plt.xlabel('xPixel')\n",
    "plt.ylabel('yPixel')\n",
    "plt.title('Pixel Hit Count Density Map')\n",
    "\n",
    "# Add colorbar\n",
    "cbar = plt.colorbar()\n",
    "cbar.set_label('Hit Count', rotation=270, labelpad=20)\n",
    "\n",
    "plt.tight_layout()\n",
    "plt.show()"
   ]
  }
 ],
 "metadata": {
  "kernelspec": {
   "display_name": "default",
   "language": "python",
   "name": "python3"
  },
  "language_info": {
   "codemirror_mode": {
    "name": "ipython",
    "version": 3
   },
   "file_extension": ".py",
   "mimetype": "text/x-python",
   "name": "python",
   "nbconvert_exporter": "python",
   "pygments_lexer": "ipython3",
   "version": "3.13.5"
  }
 },
 "nbformat": 4,
 "nbformat_minor": 5
}
