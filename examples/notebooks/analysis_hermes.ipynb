{
 "cells": [
  {
   "cell_type": "code",
   "execution_count": null,
   "id": "9df0483e",
   "metadata": {},
   "outputs": [],
   "source": [
    "from hermes.analysis.loader import SignalsIO\n",
    "import matplotlib.pyplot as plt\n",
    "import pandas as pd\n",
    "import numpy as np\n",
    "import os"
   ]
  },
  {
   "cell_type": "code",
   "execution_count": null,
   "id": "6950e206",
   "metadata": {},
   "outputs": [],
   "source": [
    "# --- User inputs ---\n",
    "rawSignals_dir = \"PATH/TO/YOUR/RAWSIGNALS/DATA\"              # Directory containing .rawSignals files\n",
    "csv_dir = \"PATH/TO/YOUR/CSV/DATA\"                           # Directory containing .csv files\n",
    "pixelActivations_dir = \"PATH/TO/YOUR/PIXELACTIVATIONS/DATA\" # Directory containing .pixelActivations files\n",
    "\n",
    "#===== EXAMPLE USAGE CASES OF LOADER =====#\n",
    "\n",
    "loader = SignalsIO()\n",
    "\n",
    "# # Load a single .rawSignals, .csv, and .pixelActivations file\n",
    "# df1 = loader.load_data(\"path/to/data.rawSignals\")\n",
    "# df2 = loader.load_data(\"path/to/data.csv\")\n",
    "# df3 = loader.load_data(\"path/to/data.pixelActivations\")\n",
    "\n",
    "# # Load the .rawSignals files from a folder that has many different file types. \n",
    "# df = loader.load_data(\"path/to/mixed/data\", format=\"rawSignals\")\n",
    "\n",
    "# # Load the .csv files from a folder that with many file types and only load files 5 through 9.\n",
    "# df = loader.load_data(\"path/to/mixed/data\", format=\"csv\", index=\"5:10\")\n",
    "\n",
    "# # Load the .pixelActivations files from directory, load files 10 through 19 with a step of 2, and enable ToA continuity\n",
    "# df = loader.load_data(pixelActivations_dir, index=\"10:20:2\", time_adjust=True)\n",
    "\n",
    "# # Load .rawSignals files form directory, files 10 through 100 with step of 5, enable ToA continuity, with rounding estimation.\n",
    "# df = loader.load_data(rawSignals_dir, index=\"10:101:5\", time_adjust=True, round_period_to=0.25)\n",
    "\n",
    "# # Load .rawSignals files form directory, files 10 through 100 with step of 5, enable ToA continuity, with defined file duration.\n",
    "# df = loader.load_data(rawSignals_dir, index=\"10:101:5\", time_adjust=True, file_duration=2.5)\n"
   ]
  },
  {
   "cell_type": "code",
   "execution_count": null,
   "id": "1e85e4cb",
   "metadata": {},
   "outputs": [],
   "source": [
    "# Filter out all data that isn't a pixel hit\n",
    "pixel_df = reader.filter_by_signal_type(df, \"Pixel\")\n",
    "\n",
    "# Display basic information about the loaded data\n",
    "reader.get_summary_stats(pixel_df, rows=10)"
   ]
  },
  {
   "cell_type": "code",
   "execution_count": 5,
   "id": "ce8b1ea8",
   "metadata": {},
   "outputs": [
    {
     "ename": "NameError",
     "evalue": "name 'pixel_df' is not defined",
     "output_type": "error",
     "traceback": [
      "\u001b[31m---------------------------------------------------------------------------\u001b[39m",
      "\u001b[31mNameError\u001b[39m                                 Traceback (most recent call last)",
      "\u001b[36mCell\u001b[39m\u001b[36m \u001b[39m\u001b[32mIn[5]\u001b[39m\u001b[32m, line 7\u001b[39m\n\u001b[32m      4\u001b[39m plt.figure(figsize=(\u001b[32m12\u001b[39m, \u001b[32m10\u001b[39m))\n\u001b[32m      6\u001b[39m \u001b[38;5;66;03m# Create 2D histogram with color representing count density\u001b[39;00m\n\u001b[32m----> \u001b[39m\u001b[32m7\u001b[39m hist, xedges, yedges = np.histogram2d(\u001b[43mpixel_df\u001b[49m[\u001b[33m'\u001b[39m\u001b[33mxPixel\u001b[39m\u001b[33m'\u001b[39m], pixel_df[\u001b[33m'\u001b[39m\u001b[33myPixel\u001b[39m\u001b[33m'\u001b[39m], bins=\u001b[32m256\u001b[39m, \u001b[38;5;28mrange\u001b[39m=[[\u001b[32m0\u001b[39m, \u001b[32m255\u001b[39m], [\u001b[32m0\u001b[39m, \u001b[32m255\u001b[39m]])\n\u001b[32m      9\u001b[39m \u001b[38;5;66;03m# Display as image\u001b[39;00m\n\u001b[32m     10\u001b[39m plt.imshow(hist.T, origin=\u001b[33m'\u001b[39m\u001b[33mlower\u001b[39m\u001b[33m'\u001b[39m, extent=[\u001b[32m0\u001b[39m, \u001b[32m255\u001b[39m, \u001b[32m0\u001b[39m, \u001b[32m255\u001b[39m], cmap=\u001b[33m'\u001b[39m\u001b[33mviridis\u001b[39m\u001b[33m'\u001b[39m, aspect=\u001b[33m'\u001b[39m\u001b[33mequal\u001b[39m\u001b[33m'\u001b[39m)\n",
      "\u001b[31mNameError\u001b[39m: name 'pixel_df' is not defined"
     ]
    },
    {
     "data": {
      "text/plain": [
       "<Figure size 1200x1000 with 0 Axes>"
      ]
     },
     "metadata": {},
     "output_type": "display_data"
    }
   ],
   "source": [
    "'''Histogram to view pixel hits before any processing'''\n",
    "\n",
    "# Create a 2D histogram (image) of the pixel data\n",
    "plt.figure(figsize=(12, 10))\n",
    "\n",
    "# Create 2D histogram with color representing count density\n",
    "hist, xedges, yedges = np.histogram2d(pixel_df['xPixel'], pixel_df['yPixel'], bins=256, range=[[0, 255], [0, 255]])\n",
    "\n",
    "# Display as image\n",
    "plt.imshow(hist.T, origin='lower', extent=[0, 255, 0, 255], cmap='viridis', aspect='equal')\n",
    "plt.xlabel('xPixel')\n",
    "plt.ylabel('yPixel')\n",
    "plt.title('Pixel Hit Count Density Map')\n",
    "\n",
    "# Add colorbar\n",
    "cbar = plt.colorbar()\n",
    "cbar.set_label('Hit Count', rotation=270, labelpad=20)\n",
    "\n",
    "plt.tight_layout()\n",
    "plt.show()"
   ]
  }
 ],
 "metadata": {
  "kernelspec": {
   "display_name": "default",
   "language": "python",
   "name": "python3"
  },
  "language_info": {
   "codemirror_mode": {
    "name": "ipython",
    "version": 3
   },
   "file_extension": ".py",
   "mimetype": "text/x-python",
   "name": "python",
   "nbconvert_exporter": "python",
   "pygments_lexer": "ipython3",
   "version": "3.13.5"
  }
 },
 "nbformat": 4,
 "nbformat_minor": 5
}
