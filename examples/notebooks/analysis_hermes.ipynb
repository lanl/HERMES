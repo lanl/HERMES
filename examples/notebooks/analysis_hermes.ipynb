{
 "cells": [
  {
   "cell_type": "code",
   "execution_count": null,
   "id": "9df0483e",
   "metadata": {},
   "outputs": [],
   "source": [
    "from hermes.analysis.loader import SignalsIO\n",
    "from hermes.analysis.plotter import BufferPlotter, HistogramPlotter, ToAImageSequenceGenerator\n",
    "from hermes.analysis.analyzer import SignalAnalyzer\n",
    "import matplotlib.pyplot as plt\n",
    "import pandas as pd\n",
    "import numpy as np\n",
    "import os"
   ]
  },
  {
   "cell_type": "code",
   "execution_count": null,
   "id": "6950e206",
   "metadata": {},
   "outputs": [],
   "source": [
    "# --- User inputs ---\n",
    "rawSignals_dir = \"PATH/TO/YOUR/RAWSIGNALS/DATA\"              # Directory containing .rawSignals files\n",
    "csv_dir = \"PATH/TO/YOUR/CSV/DATA\"                           # Directory containing .csv files\n",
    "pixelActivations_dir = \"PATH/TO/YOUR/PIXELACTIVATIONS/DATA\" # Directory containing .pixelActivations files\n",
    "\n",
    "#===== EXAMPLE USAGE CASES OF LOADER =====#\n",
    "\n",
    "loader = SignalsIO()\n",
    "\n",
    "# # Load a single .rawSignals, .csv, and .pixelActivations file\n",
    "# df1 = loader.load_data(\"path/to/data.rawSignals\")\n",
    "# df2 = loader.load_data(\"path/to/data.csv\")\n",
    "# df3 = loader.load_data(\"path/to/data.pixelActivations\")\n",
    "\n",
    "# # Load the .rawSignals files from a folder that has many different file types. \n",
    "# df = loader.load_data(\"path/to/mixed/data\", format=\"rawSignals\")\n",
    "\n",
    "# # Load the .csv files from a folder with many file types and only load files 5 through 9.\n",
    "# df = loader.load_data(\"path/to/mixed/data\", format=\"csv\", index=\"5:10\")\n",
    "\n",
    "# # Load the .pixelActivations files from directory, load files 10 through 19 with a step of 2, and enable ToA continuity\n",
    "# df = loader.load_data(pixelActivations_dir, index=\"10:20:2\", time_adjust=True)\n",
    "\n",
    "# # Load .rawSignals files from directory, load files 10 through 100 with step of 5, enable ToA continuity, with rounding estimation.\n",
    "# df = loader.load_data(rawSignals_dir, index=\"10:101:5\", time_adjust=True, round_period_to=0.25)\n",
    "\n",
    "# # Load .rawSignals files from directory, load files 10 through 100 with step of 5, enable ToA continuity, with defined file duration.\n",
    "# df = loader.load_data(rawSignals_dir, index=\"10:101:5\", time_adjust=True, file_duration=2.5)\n",
    "\n",
    "#===== EXAMPLE USAGE CASES OF ANALYZER =====#\n",
    "\n",
    "analyzer = SignalAnalyzer()\n",
    "\n",
    "# # Get summary of data that has been loaded\n",
    "# analyzer.get_summary_stats(df)\n",
    "\n",
    "# # Filter DataFrame to only show pixels\n",
    "# pixel_df = analyzer.filter_by_signal_type(df, \"Pixel\")\n",
    "\n",
    "# # Filter DataFrame to be between time window of 1.5 and 2 seconds.\n",
    "# time_df = analyzer.filter_by_time_range(df, 1.5, 2.0)\n",
    "\n",
    "#===== EXAMPLE USAGE CASES OF PLOTTER =====#\n",
    "\n",
    "# # Plot a heatmap of pixel hits. Assumed pixel_df is defined from analyzer section.\n",
    "# HistogramPlotter.plot_2D_histogram(pixel_df)\n"
   ]
  },
  {
   "cell_type": "code",
   "execution_count": 1,
   "id": "94016c38",
   "metadata": {},
   "outputs": [
    {
     "ename": "ValueError",
     "evalue": "Must run at least once",
     "output_type": "error",
     "traceback": [
      "\u001b[31m---------------------------------------------------------------------------\u001b[39m",
      "\u001b[31mValueError\u001b[39m                                Traceback (most recent call last)",
      "\u001b[36mCell\u001b[39m\u001b[36m \u001b[39m\u001b[32mIn[1]\u001b[39m\u001b[32m, line 6\u001b[39m\n\u001b[32m      3\u001b[39m \u001b[38;5;28;01mimport\u001b[39;00m\u001b[38;5;250m \u001b[39m\u001b[34;01mjson\u001b[39;00m\n\u001b[32m      5\u001b[39m \u001b[38;5;66;03m# Load and validate a run config from an INI file\u001b[39;00m\n\u001b[32m----> \u001b[39m\u001b[32m6\u001b[39m run_config_json = \u001b[43mhermes\u001b[49m\u001b[43m.\u001b[49m\u001b[43mload_run_config_file\u001b[49m\u001b[43m(\u001b[49m\u001b[33;43m\"\u001b[39;49m\u001b[33;43m/path/to/your/acquireTpx3.ini\u001b[39;49m\u001b[33;43m\"\u001b[39;49m\u001b[43m)\u001b[49m\n\u001b[32m      7\u001b[39m run_config = json.loads(run_config_json)  \u001b[38;5;66;03m# Now a Python dict\u001b[39;00m\n\u001b[32m      9\u001b[39m \u001b[38;5;66;03m# Optionally, apply overrides\u001b[39;00m\n",
      "\u001b[36mFile \u001b[39m\u001b[32m~/Programs/HERMES/src/hermes/acquisition/acquire.py:59\u001b[39m, in \u001b[36mload_run_config_file\u001b[39m\u001b[34m(config_file, run_name)\u001b[39m\n\u001b[32m     29\u001b[39m run_config = {\n\u001b[32m     30\u001b[39m     \u001b[33m'\u001b[39m\u001b[33mWorkingDir\u001b[39m\u001b[33m'\u001b[39m: {\n\u001b[32m     31\u001b[39m         \u001b[33m'\u001b[39m\u001b[33mpath_to_working_dir\u001b[39m\u001b[33m'\u001b[39m: config.get(\u001b[33m'\u001b[39m\u001b[33mWorkingDir\u001b[39m\u001b[33m'\u001b[39m, \u001b[33m'\u001b[39m\u001b[33mpath_to_working_dir\u001b[39m\u001b[33m'\u001b[39m, fallback=\u001b[33m\"\u001b[39m\u001b[33m./\u001b[39m\u001b[33m\"\u001b[39m),\n\u001b[32m   (...)\u001b[39m\u001b[32m     56\u001b[39m     }\n\u001b[32m     57\u001b[39m }\n\u001b[32m     58\u001b[39m \u001b[38;5;66;03m# Validate after loading\u001b[39;00m\n\u001b[32m---> \u001b[39m\u001b[32m59\u001b[39m \u001b[43mvalidate_config\u001b[49m\u001b[43m(\u001b[49m\u001b[43mrun_config\u001b[49m\u001b[43m)\u001b[49m\n\u001b[32m     60\u001b[39m \u001b[38;5;28;01mreturn\u001b[39;00m json.dumps(run_config, indent=\u001b[32m4\u001b[39m)\n",
      "\u001b[36mFile \u001b[39m\u001b[32m~/Programs/HERMES/src/hermes/acquisition/acquire.py:107\u001b[39m, in \u001b[36mvalidate_config\u001b[39m\u001b[34m(cfg)\u001b[39m\n\u001b[32m    105\u001b[39m         \u001b[38;5;28;01mraise\u001b[39;00m \u001b[38;5;167;01mValueError\u001b[39;00m(\u001b[33m\"\u001b[39m\u001b[33mExposure time must be <= trigger period\u001b[39m\u001b[33m\"\u001b[39m)\n\u001b[32m    106\u001b[39m     \u001b[38;5;28;01mif\u001b[39;00m runs < \u001b[32m1\u001b[39m:\n\u001b[32m--> \u001b[39m\u001b[32m107\u001b[39m         \u001b[38;5;28;01mraise\u001b[39;00m \u001b[38;5;167;01mValueError\u001b[39;00m(\u001b[33m\"\u001b[39m\u001b[33mMust run at least once\u001b[39m\u001b[33m\"\u001b[39m)\n\u001b[32m    109\u001b[39m     \u001b[38;5;28mprint\u001b[39m(\u001b[33m\"\u001b[39m\u001b[33mRun config validation passed: configuration is valid.\u001b[39m\u001b[33m\"\u001b[39m)\n\u001b[32m    110\u001b[39m \u001b[38;5;28;01melif\u001b[39;00m \u001b[33m\"\u001b[39m\u001b[33mServerConfig\u001b[39m\u001b[33m\"\u001b[39m \u001b[38;5;129;01min\u001b[39;00m cfg:\n",
      "\u001b[31mValueError\u001b[39m: Must run at least once"
     ]
    }
   ],
   "source": [
    "# Example usage of HERMES config tools\n",
    "import hermes\n",
    "import json\n",
    "\n",
    "# Load and validate a run config from an INI file\n",
    "run_config_json = hermes.load_run_config_file(\"run_config.ini\")\n",
    "run_config = json.loads(run_config_json)  # Now a Python dict\n",
    "\n",
    "# Optionally, apply overrides via function\n",
    "overrides = {\n",
    "    \"RunSettings\": {\"run_name\": \"example_run\", \"number_of_runs\": 5}\n",
    "}\n",
    "hermes.apply_overrides(run_config, overrides)\n",
    "\n",
    "# Load and validate a server config from an INI file\n",
    "server_config_json = hermes.load_server_config_file(\"server_config.ini\")\n",
    "server_config = json.loads(server_config_json)"
   ]
  }
 ],
 "metadata": {
  "kernelspec": {
   "display_name": "Python 3",
   "language": "python",
   "name": "python3"
  },
  "language_info": {
   "codemirror_mode": {
    "name": "ipython",
    "version": 3
   },
   "file_extension": ".py",
   "mimetype": "text/x-python",
   "name": "python",
   "nbconvert_exporter": "python",
   "pygments_lexer": "ipython3",
   "version": "3.13.5"
  }
 },
 "nbformat": 4,
 "nbformat_minor": 5
}
