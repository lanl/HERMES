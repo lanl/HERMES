{
 "cells": [
  {
   "cell_type": "code",
   "execution_count": null,
   "metadata": {},
   "outputs": [],
   "source": [
    "import os\n",
    "from hermes.analysis.exporter import SignalDataExporter\n",
    "import numpy as np\n",
    "import matplotlib.pyplot as plt\n",
    "import pandas as pd"
   ]
  },
  {
   "cell_type": "code",
   "execution_count": null,
   "metadata": {},
   "outputs": [],
   "source": [
    "rawsignal_file_dir = \"/PATH/TO/YOUR/RAWSIGNALS/DATA\" # Update this path"
   ]
  },
  {
   "cell_type": "code",
   "execution_count": null,
   "metadata": {},
   "outputs": [],
   "source": [
    "'''Combine all data into one array for analysis'''\n",
    "exporter = SignalDataExporter()\n",
    "\n",
    "# Collect all raw signal files (assuming they end with .rawSignals)\n",
    "all_files = [f for f in os.listdir(rawsignal_file_dir) if f.endswith('.rawSignals')]\n",
    "\n",
    "combined_df_list = []\n",
    "\n",
    "for filename in all_files:\n",
    "    file_path = os.path.join(rawsignal_file_dir, filename)\n",
    "    print(f\"Reading {filename} ...\")\n",
    "    df = exporter.read_raw_signals(file_path)\n",
    "    combined_df_list.append(df)\n",
    "\n",
    "# Concatenate all DataFrames into one\n",
    "combined_df = pd.concat(combined_df_list, ignore_index=True)\n",
    "\n",
    "print(f\"\\nSuccessfully loaded {len(combined_df):,} signal records from {len(all_files)} files\")"
   ]
  },
  {
   "cell_type": "code",
   "execution_count": null,
   "metadata": {},
   "outputs": [],
   "source": [
    "# Display basic information about the loaded data\n",
    "print(f\"Successfully loaded {len(combined_df):,} signal records\")\n",
    "print(f\"Columns: {list(combined_df.columns)}\")\n",
    "print(f\"\\nSignal type distribution:\")\n",
    "print(combined_df['signalTypeDescription'].value_counts())\n",
    "print(f\"\\nData time range: {combined_df['ToaFinal'].min():.6f} to {combined_df['ToaFinal'].max():.6f} seconds\")\n",
    "print(f\"Duration: {combined_df['ToaFinal'].max() - combined_df['ToaFinal'].min():.6f} seconds\")\n",
    "print(f\"\\nPixel ranges: x({combined_df['xPixel'].min()}-{combined_df['xPixel'].max()}), y({combined_df['yPixel'].min()}-{combined_df['yPixel'].max()})\")\n",
    "print(f\"\\nFirst few rows:\")\n",
    "print(combined_df.head(10))"
   ]
  },
  {
   "cell_type": "code",
   "execution_count": null,
   "metadata": {},
   "outputs": [],
   "source": [
    "'''Histogram to view pixel hits before any processing'''\n",
    "\n",
    "# Filter only 'Pixel' signal type data\n",
    "pixel_df = df[df['signalTypeDescription'] == 'Pixel']\n",
    "\n",
    "# Create a 2D histogram (image) of the pixel data\n",
    "plt.figure(figsize=(12, 10))\n",
    "\n",
    "# Create 2D histogram with color representing count density\n",
    "hist, xedges, yedges = np.histogram2d(pixel_df['xPixel'], pixel_df['yPixel'], bins=256, range=[[0, 255], [0, 255]])\n",
    "\n",
    "# Display as image\n",
    "plt.imshow(hist.T, origin='lower', extent=[0, 255, 0, 255], cmap='viridis', aspect='equal')\n",
    "plt.xlabel('xPixel')\n",
    "plt.ylabel('yPixel')\n",
    "plt.title('Pixel Hit Count Density Map')\n",
    "\n",
    "# Add colorbar\n",
    "cbar = plt.colorbar()\n",
    "cbar.set_label('Hit Count', rotation=270, labelpad=20)\n",
    "\n",
    "plt.tight_layout()\n",
    "plt.show()"
   ]
  }
 ],
 "metadata": {
  "language_info": {
   "name": "python"
  }
 },
 "nbformat": 4,
 "nbformat_minor": 2
}
